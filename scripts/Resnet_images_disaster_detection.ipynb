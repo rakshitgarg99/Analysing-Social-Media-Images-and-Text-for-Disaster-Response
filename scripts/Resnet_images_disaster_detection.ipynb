{
  "cells": [
    {
      "cell_type": "markdown",
      "metadata": {},
      "source": [
        "## import the libraries"
      ]
    },
    {
      "cell_type": "code",
      "execution_count": null,
      "metadata": {
        "colab": {
          "base_uri": "https://localhost:8080/"
        },
        "id": "VyN9PvOhG2Ir",
        "outputId": "f99ebe76-727e-4d20-a9dd-3f7c68bfd665"
      },
      "outputs": [
        {
          "name": "stdout",
          "output_type": "stream",
          "text": [
            "Using TensorFlow backend\n",
            "TensorFlow version: 2.17.0\n"
          ]
        }
      ],
      "source": [
        "import numpy as np # linear algebra\n",
        "import pandas as pd # data processing, CSV file I/O (e.g. pd.read_csv)\n",
        "import tensorflow as tf\n",
        "import keras_core as keras\n",
        "from sklearn.metrics import ConfusionMatrixDisplay, confusion_matrix\n",
        "import seaborn as sns\n",
        "import matplotlib.pyplot as plt\n",
        "import shutil\n",
        "\n",
        "\n",
        "from tensorflow.keras.preprocessing.image import ImageDataGenerator\n",
        "from tensorflow.keras.applications import ResNet50\n",
        "from tensorflow.keras.layers import Dense, GlobalAveragePooling2D\n",
        "from tensorflow.keras.models import Model\n",
        "from tensorflow.keras.optimizers import Adam\n",
        "\n",
        "\n",
        "print(\"TensorFlow version:\", tf.__version__)\n",
        "print(\"KerasNLP version:\", keras_nlp.__version__)"
      ]
    },
    {
      "cell_type": "code",
      "execution_count": null,
      "metadata": {},
      "outputs": [],
      "source": [
        "# Mount the google drive\n",
        "from google.colab import drive\n",
        "drive.mount('/content/drive')"
      ]
    },
    {
      "cell_type": "markdown",
      "metadata": {},
      "source": [
        "## Preprocessing\n",
        "\n",
        "- check the dataset and divide it in train, test and val\n",
        "- apply pre processing steps and check if there is any correupt file"
      ]
    },
    {
      "cell_type": "code",
      "execution_count": null,
      "metadata": {
        "execution": {
          "iopub.execute_input": "2024-09-08T17:07:27.880904Z",
          "iopub.status.busy": "2024-09-08T17:07:27.880321Z",
          "iopub.status.idle": "2024-09-08T17:08:48.558048Z",
          "shell.execute_reply": "2024-09-08T17:08:48.557201Z",
          "shell.execute_reply.started": "2024-09-08T17:07:27.880877Z"
        },
        "id": "HHCpgkhh_wfL",
        "trusted": true
      },
      "outputs": [],
      "source": [
        "def create_and_copy_dataset(base_dir, main_categories, exclude_subcategories={}):\n",
        "    working_dir = '/content/drive/MyDrive/fyllo/'\n",
        "\n",
        "    for main_cat in main_categories:\n",
        "        # Create main category directories in a writeable location\n",
        "        os.makedirs(os.path.join(working_dir, 'train', main_cat), exist_ok=True)\n",
        "        os.makedirs(os.path.join(working_dir, 'val', main_cat), exist_ok=True)\n",
        "        os.makedirs(os.path.join(working_dir, 'test', main_cat), exist_ok=True)\n",
        "\n",
        "        main_cat_dir = os.path.join(base_dir, main_cat)\n",
        "        if not os.path.exists(main_cat_dir):\n",
        "            print(f\"Directory not found: {main_cat_dir}\")\n",
        "            continue\n",
        "\n",
        "        all_files = []\n",
        "        for sub_cat in os.listdir(main_cat_dir):\n",
        "            sub_cat_dir = os.path.join(main_cat_dir, sub_cat)\n",
        "\n",
        "            # Skip if the subcategory is in the exclude list\n",
        "            if sub_cat in exclude_subcategories.get(main_cat, []):\n",
        "                continue\n",
        "\n",
        "            if os.path.isdir(sub_cat_dir):\n",
        "                # Handle sub-directories\n",
        "                files = [os.path.join(sub_cat_dir, f) for f in os.listdir(sub_cat_dir) if os.path.isfile(os.path.join(sub_cat_dir, f))]\n",
        "                all_files.extend(files)\n",
        "            else:\n",
        "                # Handle direct files in main category folder\n",
        "                if os.path.isfile(sub_cat_dir):\n",
        "                    all_files.append(sub_cat_dir)\n",
        "\n",
        "        # Shuffle and split files\n",
        "        np.random.shuffle(all_files)\n",
        "        total_files = len(all_files)\n",
        "        train_split = int(0.7 * total_files)\n",
        "        val_split = int(0.85 * total_files)\n",
        "\n",
        "        for i, file_path in enumerate(all_files):\n",
        "            if i < train_split:\n",
        "                shutil.copy(file_path, os.path.join(working_dir, 'train', main_cat))\n",
        "            elif i < val_split:\n",
        "                shutil.copy(file_path, os.path.join(working_dir, 'val', main_cat))\n",
        "            else:\n",
        "                shutil.copy(file_path, os.path.join(working_dir, 'test', main_cat))\n",
        "\n",
        "# Example usage\n",
        "main_categories = ['Damaged_Infrastructure', 'Fire_Disaster', 'Human_Damage', 'Land_Disaster', 'Non_Damage', 'Water_Disaster']\n",
        "exclude_subcategories = {'Land_Disaster': ['Land_Slide']}\n",
        "base_dir = '/content/drive/MyDrive/fyllo/disaster-images-dataset/Comprehensive Disaster Dataset(CDD)/'\n",
        "create_and_copy_dataset(base_dir, main_categories, exclude_subcategories)\n"
      ]
    },
    {
      "cell_type": "code",
      "execution_count": null,
      "metadata": {
        "execution": {
          "iopub.execute_input": "2024-09-08T17:08:48.559973Z",
          "iopub.status.busy": "2024-09-08T17:08:48.559689Z",
          "iopub.status.idle": "2024-09-08T17:08:48.565941Z",
          "shell.execute_reply": "2024-09-08T17:08:48.564989Z",
          "shell.execute_reply.started": "2024-09-08T17:08:48.559948Z"
        },
        "id": "0u9FcV3s_wfO",
        "trusted": true
      },
      "outputs": [],
      "source": [
        "# Define directory paths\n",
        "train_dir = '/content/drive/MyDrive/fyllo/train'\n",
        "val_dir = '/content/drive/MyDrive/fyllo/val'\n",
        "test_dir = '/content/drive/MyDrive/fyllo/test'\n",
        "\n",
        "# Other parameters\n",
        "img_width, img_height = 256, 256  # Adjust as needed\n",
        "batch_size = 32  # Adjust as needed\n",
        "\n",
        "# Data generators\n",
        "train_datagen = ImageDataGenerator(rescale=1./255)\n",
        "val_datagen = ImageDataGenerator(rescale=1./255)\n",
        "test_datagen = ImageDataGenerator(rescale=1./255)\n",
        "\n",
        "\n",
        "# train_datagen = ImageDataGenerator(\n",
        "#     rescale=1./255,\n",
        "#     rotation_range=40,      # Random rotations in the range of 0 to 40 degrees\n",
        "#     width_shift_range=0.2,  # Random horizontal shifts\n",
        "#     height_shift_range=0.2, # Random vertical shifts\n",
        "#     shear_range=0.2,        # Shear transformation\n",
        "#     zoom_range=0.2,         # Random zoom\n",
        "#     horizontal_flip=True,   # Random horizontal flips\n",
        "#     fill_mode='nearest'     # Strategy to fill newly created pixels\n",
        "# )\n",
        "\n"
      ]
    },
    {
      "cell_type": "code",
      "execution_count": null,
      "metadata": {},
      "outputs": [],
      "source": [
        "import glob\n",
        "from PIL import Image\n",
        "\n",
        "def validate_and_fix_images(folder_path):\n",
        "    for img_path in glob.glob(os.path.join(folder_path, '**/*'), recursive=True):\n",
        "        if os.path.isfile(img_path):\n",
        "            try:\n",
        "                with Image.open(img_path) as img:\n",
        "                    img.verify()  # Verify the integrity of the file\n",
        "                    img.seek(0)   # Reset file pointer\n",
        "                    img = Image.open(img_path)\n",
        "                    img.load()    # Load the image data\n",
        "            except (OSError, Exception) as e:\n",
        "                print('Problematic file:', img_path, 'Error:', e)\n",
        "                os.remove(img_path)  # Optionally remove the corrupted file\n",
        "\n",
        "validate_and_fix_images('/content/drive/MyDrive/fyllo/')"
      ]
    },
    {
      "cell_type": "code",
      "execution_count": null,
      "metadata": {
        "colab": {
          "base_uri": "https://localhost:8080/"
        },
        "execution": {
          "iopub.execute_input": "2024-09-08T17:09:21.674708Z",
          "iopub.status.busy": "2024-09-08T17:09:21.674036Z",
          "iopub.status.idle": "2024-09-08T17:09:22.042801Z",
          "shell.execute_reply": "2024-09-08T17:09:22.042065Z",
          "shell.execute_reply.started": "2024-09-08T17:09:21.674671Z"
        },
        "id": "HIO4Ko26_wfX",
        "outputId": "9afef6c6-3ab0-4d82-f382-53d067b60cc1",
        "trusted": true
      },
      "outputs": [
        {
          "name": "stdout",
          "output_type": "stream",
          "text": [
            "Found 9187 images belonging to 6 classes.\n",
            "Found 1964 images belonging to 6 classes.\n",
            "Found 1969 images belonging to 6 classes.\n"
          ]
        }
      ],
      "source": [
        "# Flow data from directories\n",
        "# set the categorical labels to be inferred from the subdirectory names\n",
        "train_generator = train_datagen.flow_from_directory(\n",
        "    train_dir,\n",
        "    target_size=(img_width, img_height),\n",
        "    batch_size=batch_size,\n",
        "    class_mode='categorical')\n",
        "\n",
        "\n",
        "\n",
        "val_generator = val_datagen.flow_from_directory(\n",
        "    val_dir,\n",
        "    target_size=(img_width, img_height),\n",
        "    batch_size=batch_size,\n",
        "    class_mode='categorical')\n",
        "\n",
        "test_generator = test_datagen.flow_from_directory(\n",
        "    test_dir,\n",
        "    target_size=(img_width, img_height),\n",
        "    batch_size=batch_size,\n",
        "    class_mode='categorical')\n"
      ]
    },
    {
      "cell_type": "markdown",
      "metadata": {},
      "source": [
        "## Transfer learning\n",
        "\n",
        "- using resnet50 with imagenet model weights\n",
        "- use early stopping to get best weights"
      ]
    },
    {
      "cell_type": "code",
      "execution_count": null,
      "metadata": {
        "execution": {
          "iopub.execute_input": "2024-09-08T17:09:22.044156Z",
          "iopub.status.busy": "2024-09-08T17:09:22.043821Z",
          "iopub.status.idle": "2024-09-08T17:09:22.048324Z",
          "shell.execute_reply": "2024-09-08T17:09:22.047519Z",
          "shell.execute_reply.started": "2024-09-08T17:09:22.044128Z"
        },
        "id": "uwSASX3n_wfZ",
        "trusted": true
      },
      "outputs": [],
      "source": [
        "# import the pretrained imagenet models\n",
        "\n",
        "# from tensorflow.keras.applications import EfficientNetB0\n",
        "# from tensorflow.keras.applications import ResNet101\n",
        "from tensorflow.keras.applications import ResNet50\n"
      ]
    },
    {
      "cell_type": "code",
      "execution_count": null,
      "metadata": {
        "execution": {
          "iopub.execute_input": "2024-09-08T17:09:22.050067Z",
          "iopub.status.busy": "2024-09-08T17:09:22.049706Z",
          "iopub.status.idle": "2024-09-08T17:09:25.630112Z",
          "shell.execute_reply": "2024-09-08T17:09:25.629137Z",
          "shell.execute_reply.started": "2024-09-08T17:09:22.050005Z"
        },
        "id": "9rmq0rC0_wfa",
        "trusted": true
      },
      "outputs": [],
      "source": [
        "base_model = ResNet50(weights='imagenet', include_top=False, input_shape=(img_width, img_height, 3))\n",
        "# base_model = EfficientNetB0(weights='imagenet', include_top=False, input_shape=(img_width, img_height, 3))\n",
        "# base_model = ResNet152(weights='imagenet', include_top=False, input_shape=(img_width, img_height, 3))\n",
        "# base_model = ResNet101(weights='imagenet', include_top=False, input_shape=(img_width, img_height, 3))\n",
        "\n",
        "\n",
        "# Freeze the layers of the base model\n",
        "for layer in base_model.layers:\n",
        "    layer.trainable = False\n",
        "\n",
        "\n",
        "# add custom layers - transfer learning\n",
        "x = base_model.output\n",
        "x = GlobalAveragePooling2D()(x)\n",
        "x = Dense(1024, activation='relu')(x)\n",
        "predictions = Dense(train_generator.num_classes, activation='softmax')(x)\n",
        "\n",
        "\n",
        "# Create the final model\n",
        "model = Model(inputs=base_model.input, outputs=predictions)\n",
        "\n",
        "# Compile the model\n",
        "model.compile(optimizer=Adam(learning_rate=0.001), loss='categorical_crossentropy', metrics=['accuracy'])\n"
      ]
    },
    {
      "cell_type": "code",
      "execution_count": null,
      "metadata": {
        "colab": {
          "base_uri": "https://localhost:8080/"
        },
        "execution": {
          "iopub.execute_input": "2024-09-08T17:10:24.333510Z",
          "iopub.status.busy": "2024-09-08T17:10:24.333150Z",
          "iopub.status.idle": "2024-09-08T17:10:24.442098Z",
          "shell.execute_reply": "2024-09-08T17:10:24.441130Z",
          "shell.execute_reply.started": "2024-09-08T17:10:24.333485Z"
        },
        "id": "yAauF0FT_wff",
        "outputId": "33e2529b-6c09-42c2-8f3d-4dc402dfeac7",
        "trusted": true
      },
      "outputs": [
        {
          "name": "stdout",
          "output_type": "stream",
          "text": [
            "Subset: train\n",
            "  Land_Disaster: 140\n",
            "  Fire_Disaster: 653\n",
            "  Non_Damage: 6485\n",
            "  Damaged_Infrastructure: 1017\n",
            "  Water_Disaster: 724\n",
            "  Human_Damage: 168\n",
            "\n",
            "Subset: val\n",
            "  Damaged_Infrastructure: 218\n",
            "  Fire_Disaster: 140\n",
            "  Human_Damage: 35\n",
            "  Land_Disaster: 30\n",
            "  Non_Damage: 1386\n",
            "  Water_Disaster: 155\n",
            "\n",
            "Subset: test\n",
            "  Damaged_Infrastructure: 219\n",
            "  Non_Damage: 1386\n",
            "  Land_Disaster: 31\n",
            "  Water_Disaster: 156\n",
            "  Fire_Disaster: 140\n",
            "  Human_Damage: 37\n",
            "\n"
          ]
        }
      ],
      "source": [
        "#checking the subdirectories image distribution\n",
        "\n",
        "def count_images(base_dir, subsets):\n",
        "    distribution = {}\n",
        "    for subset in subsets:\n",
        "        distribution[subset] = {}\n",
        "        subset_dir = os.path.join(base_dir, subset)\n",
        "        if not os.path.exists(subset_dir):\n",
        "            print(f\"Directory not found: {subset_dir}\")\n",
        "            continue\n",
        "\n",
        "        for class_name in os.listdir(subset_dir):\n",
        "            class_dir = os.path.join(subset_dir, class_name)\n",
        "            if not os.path.isdir(class_dir):\n",
        "                continue\n",
        "\n",
        "            count = len([name for name in os.listdir(class_dir) if os.path.isfile(os.path.join(class_dir, name))])\n",
        "            distribution[subset][class_name] = count\n",
        "    return distribution\n",
        "\n",
        "base_dir = '/content/drive/MyDrive/fyllo/'  # Replace with your base directory\n",
        "subsets = ['train', 'val', 'test']\n",
        "distribution = count_images(base_dir, subsets)\n",
        "\n",
        "for subset, classes in distribution.items():\n",
        "    print(f\"Subset: {subset}\")\n",
        "    for class_name, count in classes.items():\n",
        "        print(f\"  {class_name}: {count}\")\n",
        "    print()\n"
      ]
    },
    {
      "cell_type": "code",
      "execution_count": null,
      "metadata": {
        "execution": {
          "iopub.execute_input": "2024-09-08T17:10:32.119383Z",
          "iopub.status.busy": "2024-09-08T17:10:32.118965Z",
          "iopub.status.idle": "2024-09-08T17:10:32.128478Z",
          "shell.execute_reply": "2024-09-08T17:10:32.127566Z",
          "shell.execute_reply.started": "2024-09-08T17:10:32.119350Z"
        },
        "id": "up-vZ5i4_wgN",
        "outputId": "e4b40456-2ab5-47ed-b443-442eb8fb0535",
        "trusted": true
      },
      "outputs": [
        {
          "name": "stdout",
          "output_type": "stream",
          "text": [
            "Found 0 corrupted files.\n"
          ]
        }
      ],
      "source": [
        "def verify_images(folder_path):\n",
        "    corrupted_files = []\n",
        "\n",
        "    for root, dirs, files in os.walk(folder_path):\n",
        "        for file in files:\n",
        "            if file.lower().endswith(('.png', '.jpg', '.jpeg')):\n",
        "                try:\n",
        "                    img_path = os.path.join(root, file)\n",
        "                    with Image.open(img_path) as img:\n",
        "                        img.verify()  # Verify the integrity of the file\n",
        "                except (IOError, SyntaxError) as e:\n",
        "                    print(f'Corrupted file: {img_path}')\n",
        "                    corrupted_files.append(img_path)\n",
        "\n",
        "    return corrupted_files\n",
        "\n",
        "folder_path = '/content/drive/MyDrive/fyllo/'  # Replace with the path to your dataset\n",
        "corrupted_files = verify_images(folder_path)\n",
        "\n",
        "print(f'Found {len(corrupted_files)} corrupted files.')\n"
      ]
    },
    {
      "cell_type": "code",
      "execution_count": null,
      "metadata": {
        "execution": {
          "iopub.execute_input": "2024-09-08T17:10:35.294719Z",
          "iopub.status.busy": "2024-09-08T17:10:35.294344Z",
          "iopub.status.idle": "2024-09-08T17:10:35.300928Z",
          "shell.execute_reply": "2024-09-08T17:10:35.300061Z",
          "shell.execute_reply.started": "2024-09-08T17:10:35.294689Z"
        },
        "id": "GSeY2UP4_wgO",
        "trusted": true
      },
      "outputs": [],
      "source": [
        "from PIL import Image\n",
        "import os\n",
        "import glob\n",
        "\n",
        "def verify_images(folder_path):\n",
        "    # Using glob.glob to search for all PNG files in the directory and its subdirectories\n",
        "    for img_path in glob.glob(os.path.join(folder_path, '**/*.png'), recursive=True):\n",
        "        try:\n",
        "#             print(f'Checking: {img_path}')\n",
        "            with Image.open(img_path) as img:\n",
        "                img.verify()  # Verify the integrity of the image\n",
        "        except (IOError, SyntaxError) as e:\n",
        "            print('Bad file:', img_path)  # Print out the paths of corrupted files\n",
        "            os.remove(img_path)  # Optionally remove the corrupted file\n",
        "\n",
        "# Replace 'your_image_folder_path' with the path to your dataset folder\n",
        "# verify_images('/kaggle/working/')\n"
      ]
    },
    {
      "cell_type": "code",
      "execution_count": null,
      "metadata": {
        "id": "w2Fbga5N7HhT"
      },
      "outputs": [],
      "source": [
        "from PIL import ImageFile\n",
        "ImageFile.LOAD_TRUNCATED_IMAGES = True"
      ]
    },
    {
      "cell_type": "code",
      "execution_count": null,
      "metadata": {
        "colab": {
          "base_uri": "https://localhost:8080/"
        },
        "execution": {
          "iopub.execute_input": "2024-09-08T17:10:47.407238Z",
          "iopub.status.busy": "2024-09-08T17:10:47.406853Z",
          "iopub.status.idle": "2024-09-08T17:32:09.266717Z",
          "shell.execute_reply": "2024-09-08T17:32:09.265884Z",
          "shell.execute_reply.started": "2024-09-08T17:10:47.407205Z"
        },
        "id": "O_x1ItzA_wgZ",
        "outputId": "56419555-798a-456f-fe15-db244f780fd9",
        "trusted": true
      },
      "outputs": [
        {
          "name": "stdout",
          "output_type": "stream",
          "text": [
            "Epoch 1/50\n"
          ]
        },
        {
          "name": "stderr",
          "output_type": "stream",
          "text": [
            "/usr/local/lib/python3.10/dist-packages/keras/src/trainers/data_adapters/py_dataset_adapter.py:121: UserWarning: Your `PyDataset` class should call `super().__init__(**kwargs)` in its constructor. `**kwargs` can include `workers`, `use_multiprocessing`, `max_queue_size`. Do not pass these arguments to `fit()`, as they will be ignored.\n",
            "  self._warn_if_super_not_called()\n"
          ]
        },
        {
          "name": "stdout",
          "output_type": "stream",
          "text": [
            "\u001b[1m287/287\u001b[0m \u001b[32m━━━━━━━━━━━━━━━━━━━━\u001b[0m\u001b[37m\u001b[0m \u001b[1m0s\u001b[0m 3s/step - accuracy: 0.7059 - loss: 1.0092\n",
            "Epoch 1: val_loss improved from inf to 0.68755, saving model to /content/drive/MyDrive/fyllo/disaster_model.keras\n",
            "\u001b[1m287/287\u001b[0m \u001b[32m━━━━━━━━━━━━━━━━━━━━\u001b[0m\u001b[37m\u001b[0m \u001b[1m1612s\u001b[0m 5s/step - accuracy: 0.7060 - loss: 1.0087 - val_accuracy: 0.7531 - val_loss: 0.6875\n",
            "Epoch 2/50\n",
            "\u001b[1m  1/287\u001b[0m \u001b[37m━━━━━━━━━━━━━━━━━━━━\u001b[0m \u001b[1m34s\u001b[0m 119ms/step - accuracy: 0.8125 - loss: 0.6506"
          ]
        },
        {
          "name": "stderr",
          "output_type": "stream",
          "text": [
            "/usr/lib/python3.10/contextlib.py:153: UserWarning: Your input ran out of data; interrupting training. Make sure that your dataset or generator can generate at least `steps_per_epoch * epochs` batches. You may need to use the `.repeat()` function when building your dataset.\n",
            "  self.gen.throw(typ, value, traceback)\n"
          ]
        },
        {
          "name": "stdout",
          "output_type": "stream",
          "text": [
            "\n",
            "Epoch 2: val_loss did not improve from 0.68755\n",
            "\u001b[1m287/287\u001b[0m \u001b[32m━━━━━━━━━━━━━━━━━━━━\u001b[0m\u001b[37m\u001b[0m \u001b[1m5s\u001b[0m 16ms/step - accuracy: 0.8125 - loss: 0.6506 - val_accuracy: 0.6667 - val_loss: 0.8573\n",
            "Epoch 3/50\n",
            "\u001b[1m287/287\u001b[0m \u001b[32m━━━━━━━━━━━━━━━━━━━━\u001b[0m\u001b[37m\u001b[0m \u001b[1m0s\u001b[0m 216ms/step - accuracy: 0.7497 - loss: 0.7047\n",
            "Epoch 3: val_loss improved from 0.68755 to 0.64300, saving model to /content/drive/MyDrive/fyllo/disaster_model.keras\n",
            "\u001b[1m287/287\u001b[0m \u001b[32m━━━━━━━━━━━━━━━━━━━━\u001b[0m\u001b[37m\u001b[0m \u001b[1m110s\u001b[0m 267ms/step - accuracy: 0.7497 - loss: 0.7047 - val_accuracy: 0.8197 - val_loss: 0.6430\n",
            "Epoch 4/50\n",
            "\u001b[1m  1/287\u001b[0m \u001b[37m━━━━━━━━━━━━━━━━━━━━\u001b[0m \u001b[1m26s\u001b[0m 94ms/step - accuracy: 0.7500 - loss: 0.7868\n",
            "Epoch 4: val_loss did not improve from 0.64300\n",
            "\u001b[1m287/287\u001b[0m \u001b[32m━━━━━━━━━━━━━━━━━━━━\u001b[0m\u001b[37m\u001b[0m \u001b[1m0s\u001b[0m 280us/step - accuracy: 0.7500 - loss: 0.7868 - val_accuracy: 0.7500 - val_loss: 0.6830\n",
            "Epoch 5/50\n",
            "\u001b[1m287/287\u001b[0m \u001b[32m━━━━━━━━━━━━━━━━━━━━\u001b[0m\u001b[37m\u001b[0m \u001b[1m0s\u001b[0m 222ms/step - accuracy: 0.7625 - loss: 0.6715\n",
            "Epoch 5: val_loss improved from 0.64300 to 0.58957, saving model to /content/drive/MyDrive/fyllo/disaster_model.keras\n",
            "\u001b[1m287/287\u001b[0m \u001b[32m━━━━━━━━━━━━━━━━━━━━\u001b[0m\u001b[37m\u001b[0m \u001b[1m84s\u001b[0m 274ms/step - accuracy: 0.7626 - loss: 0.6714 - val_accuracy: 0.8084 - val_loss: 0.5896\n",
            "Epoch 6/50\n",
            "\u001b[1m  1/287\u001b[0m \u001b[37m━━━━━━━━━━━━━━━━━━━━\u001b[0m \u001b[1m27s\u001b[0m 95ms/step - accuracy: 0.7812 - loss: 0.9151\n",
            "Epoch 6: val_loss did not improve from 0.58957\n",
            "\u001b[1m287/287\u001b[0m \u001b[32m━━━━━━━━━━━━━━━━━━━━\u001b[0m\u001b[37m\u001b[0m \u001b[1m0s\u001b[0m 235us/step - accuracy: 0.7812 - loss: 0.9151 - val_accuracy: 0.6667 - val_loss: 1.2436\n",
            "Epoch 7/50\n",
            "\u001b[1m287/287\u001b[0m \u001b[32m━━━━━━━━━━━━━━━━━━━━\u001b[0m\u001b[37m\u001b[0m \u001b[1m0s\u001b[0m 215ms/step - accuracy: 0.7858 - loss: 0.6184\n",
            "Epoch 7: val_loss improved from 0.58957 to 0.54026, saving model to /content/drive/MyDrive/fyllo/disaster_model.keras\n",
            "\u001b[1m287/287\u001b[0m \u001b[32m━━━━━━━━━━━━━━━━━━━━\u001b[0m\u001b[37m\u001b[0m \u001b[1m78s\u001b[0m 266ms/step - accuracy: 0.7857 - loss: 0.6184 - val_accuracy: 0.8166 - val_loss: 0.5403\n",
            "Epoch 8/50\n",
            "\u001b[1m  1/287\u001b[0m \u001b[37m━━━━━━━━━━━━━━━━━━━━\u001b[0m \u001b[1m43s\u001b[0m 152ms/step - accuracy: 0.9688 - loss: 0.2459\n",
            "Epoch 8: val_loss did not improve from 0.54026\n",
            "\u001b[1m287/287\u001b[0m \u001b[32m━━━━━━━━━━━━━━━━━━━━\u001b[0m\u001b[37m\u001b[0m \u001b[1m0s\u001b[0m 329us/step - accuracy: 0.9688 - loss: 0.2459 - val_accuracy: 0.5833 - val_loss: 0.6752\n",
            "Epoch 9/50\n",
            "\u001b[1m287/287\u001b[0m \u001b[32m━━━━━━━━━━━━━━━━━━━━\u001b[0m\u001b[37m\u001b[0m \u001b[1m0s\u001b[0m 218ms/step - accuracy: 0.7924 - loss: 0.5829\n",
            "Epoch 9: val_loss did not improve from 0.54026\n",
            "\u001b[1m287/287\u001b[0m \u001b[32m━━━━━━━━━━━━━━━━━━━━\u001b[0m\u001b[37m\u001b[0m \u001b[1m80s\u001b[0m 264ms/step - accuracy: 0.7924 - loss: 0.5829 - val_accuracy: 0.7889 - val_loss: 0.5796\n",
            "Epoch 10/50\n",
            "\u001b[1m  1/287\u001b[0m \u001b[37m━━━━━━━━━━━━━━━━━━━━\u001b[0m \u001b[1m26s\u001b[0m 93ms/step - accuracy: 0.8438 - loss: 0.5769\n",
            "Epoch 10: val_loss did not improve from 0.54026\n",
            "\u001b[1m287/287\u001b[0m \u001b[32m━━━━━━━━━━━━━━━━━━━━\u001b[0m\u001b[37m\u001b[0m \u001b[1m8s\u001b[0m 26ms/step - accuracy: 0.8438 - loss: 0.5769 - val_accuracy: 0.8333 - val_loss: 0.6554\n",
            "Epoch 11/50\n",
            "\u001b[1m287/287\u001b[0m \u001b[32m━━━━━━━━━━━━━━━━━━━━\u001b[0m\u001b[37m\u001b[0m \u001b[1m0s\u001b[0m 220ms/step - accuracy: 0.7851 - loss: 0.6027\n",
            "Epoch 11: val_loss improved from 0.54026 to 0.53637, saving model to /content/drive/MyDrive/fyllo/disaster_model.keras\n",
            "\u001b[1m287/287\u001b[0m \u001b[32m━━━━━━━━━━━━━━━━━━━━\u001b[0m\u001b[37m\u001b[0m \u001b[1m80s\u001b[0m 274ms/step - accuracy: 0.7851 - loss: 0.6027 - val_accuracy: 0.8007 - val_loss: 0.5364\n",
            "Epoch 12/50\n",
            "\u001b[1m  1/287\u001b[0m \u001b[37m━━━━━━━━━━━━━━━━━━━━\u001b[0m \u001b[1m41s\u001b[0m 146ms/step - accuracy: 0.9375 - loss: 0.3270\n",
            "Epoch 12: val_loss did not improve from 0.53637\n",
            "\u001b[1m287/287\u001b[0m \u001b[32m━━━━━━━━━━━━━━━━━━━━\u001b[0m\u001b[37m\u001b[0m \u001b[1m0s\u001b[0m 296us/step - accuracy: 0.9375 - loss: 0.3270 - val_accuracy: 0.7500 - val_loss: 0.6142\n",
            "Epoch 13/50\n",
            "\u001b[1m287/287\u001b[0m \u001b[32m━━━━━━━━━━━━━━━━━━━━\u001b[0m\u001b[37m\u001b[0m \u001b[1m0s\u001b[0m 214ms/step - accuracy: 0.8028 - loss: 0.5675\n",
            "Epoch 13: val_loss did not improve from 0.53637\n",
            "\u001b[1m287/287\u001b[0m \u001b[32m━━━━━━━━━━━━━━━━━━━━\u001b[0m\u001b[37m\u001b[0m \u001b[1m78s\u001b[0m 259ms/step - accuracy: 0.8028 - loss: 0.5675 - val_accuracy: 0.7828 - val_loss: 0.5794\n",
            "Epoch 14/50\n",
            "\u001b[1m  1/287\u001b[0m \u001b[37m━━━━━━━━━━━━━━━━━━━━\u001b[0m \u001b[1m26s\u001b[0m 94ms/step - accuracy: 0.8438 - loss: 0.4589\n",
            "Epoch 14: val_loss improved from 0.53637 to 0.26947, saving model to /content/drive/MyDrive/fyllo/disaster_model.keras\n",
            "\u001b[1m287/287\u001b[0m \u001b[32m━━━━━━━━━━━━━━━━━━━━\u001b[0m\u001b[37m\u001b[0m \u001b[1m2s\u001b[0m 6ms/step - accuracy: 0.8438 - loss: 0.4589 - val_accuracy: 0.8333 - val_loss: 0.2695\n",
            "Epoch 15/50\n",
            "\u001b[1m287/287\u001b[0m \u001b[32m━━━━━━━━━━━━━━━━━━━━\u001b[0m\u001b[37m\u001b[0m \u001b[1m0s\u001b[0m 215ms/step - accuracy: 0.8088 - loss: 0.5472\n",
            "Epoch 15: val_loss did not improve from 0.26947\n",
            "\u001b[1m287/287\u001b[0m \u001b[32m━━━━━━━━━━━━━━━━━━━━\u001b[0m\u001b[37m\u001b[0m \u001b[1m81s\u001b[0m 261ms/step - accuracy: 0.8088 - loss: 0.5472 - val_accuracy: 0.8284 - val_loss: 0.5235\n",
            "Epoch 16/50\n",
            "\u001b[1m  1/287\u001b[0m \u001b[37m━━━━━━━━━━━━━━━━━━━━\u001b[0m \u001b[1m26s\u001b[0m 93ms/step - accuracy: 0.8750 - loss: 0.5428\n",
            "Epoch 16: val_loss did not improve from 0.26947\n",
            "\u001b[1m287/287\u001b[0m \u001b[32m━━━━━━━━━━━━━━━━━━━━\u001b[0m\u001b[37m\u001b[0m \u001b[1m0s\u001b[0m 240us/step - accuracy: 0.8750 - loss: 0.5428 - val_accuracy: 0.9167 - val_loss: 0.2834\n",
            "Epoch 17/50\n",
            "\u001b[1m287/287\u001b[0m \u001b[32m━━━━━━━━━━━━━━━━━━━━\u001b[0m\u001b[37m\u001b[0m \u001b[1m0s\u001b[0m 221ms/step - accuracy: 0.8072 - loss: 0.5453\n",
            "Epoch 17: val_loss did not improve from 0.26947\n",
            "\u001b[1m287/287\u001b[0m \u001b[32m━━━━━━━━━━━━━━━━━━━━\u001b[0m\u001b[37m\u001b[0m \u001b[1m84s\u001b[0m 270ms/step - accuracy: 0.8072 - loss: 0.5453 - val_accuracy: 0.8279 - val_loss: 0.5077\n",
            "Epoch 18/50\n",
            "\u001b[1m  1/287\u001b[0m \u001b[37m━━━━━━━━━━━━━━━━━━━━\u001b[0m \u001b[1m28s\u001b[0m 98ms/step - accuracy: 0.8125 - loss: 0.4903\n",
            "Epoch 18: val_loss did not improve from 0.26947\n",
            "\u001b[1m287/287\u001b[0m \u001b[32m━━━━━━━━━━━━━━━━━━━━\u001b[0m\u001b[37m\u001b[0m \u001b[1m0s\u001b[0m 224us/step - accuracy: 0.8125 - loss: 0.4903 - val_accuracy: 0.7500 - val_loss: 0.3886\n",
            "Epoch 19/50\n",
            "\u001b[1m287/287\u001b[0m \u001b[32m━━━━━━━━━━━━━━━━━━━━\u001b[0m\u001b[37m\u001b[0m \u001b[1m0s\u001b[0m 214ms/step - accuracy: 0.8147 - loss: 0.5248\n",
            "Epoch 19: val_loss did not improve from 0.26947\n",
            "\u001b[1m287/287\u001b[0m \u001b[32m━━━━━━━━━━━━━━━━━━━━\u001b[0m\u001b[37m\u001b[0m \u001b[1m76s\u001b[0m 260ms/step - accuracy: 0.8147 - loss: 0.5248 - val_accuracy: 0.8212 - val_loss: 0.4975\n",
            "Epoch 19: early stopping\n"
          ]
        }
      ],
      "source": [
        "from keras.callbacks import ModelCheckpoint, EarlyStopping\n",
        "\n",
        "# Define the model checkpoint callback to save the best model based on validation loss\n",
        "model_checkpoint_callback = ModelCheckpoint(\n",
        "    filepath='/content/drive/MyDrive/fyllo/image_disaster_model.keras',  # Path where to save the best model\n",
        "    save_best_only=True,                          # Save only the best model\n",
        "    monitor='val_loss',                           # Monitor the validation loss\n",
        "    mode='min',                                   # Save the model with minimum validation loss\n",
        "    verbose=2                                     # Verbosity mode\n",
        ")\n",
        "\n",
        "# Define early stopping to stop training when validation loss stops improving\n",
        "early_stopping_callback = EarlyStopping(\n",
        "    monitor='val_loss',  \n",
        "    patience=5,          # Number of epochs to wait after the last improvement\n",
        "    mode='min',          # Minimize the validation loss\n",
        "    verbose=2           \n",
        ")\n",
        "\n",
        "# Fit the model with both callbacks (model checkpoint and early stopping)\n",
        "history = model.fit(\n",
        "    train_generator,\n",
        "    steps_per_epoch=train_generator.samples // batch_size,\n",
        "    validation_data=val_generator,\n",
        "    validation_steps=val_generator.samples // batch_size,\n",
        "    epochs=50,                                      # Number of epochs\n",
        "    callbacks=[model_checkpoint_callback, early_stopping_callback]  # Add both callbacks\n",
        ")\n"
      ]
    },
    {
      "cell_type": "code",
      "execution_count": null,
      "metadata": {},
      "outputs": [],
      "source": [
        "def plot_train_val_loss_acc(history):\n",
        "    # Summarize history for accuracy\n",
        "    plt.figure(figsize=(12, 4))\n",
        "\n",
        "    # Accuracy plot\n",
        "    plt.subplot(1, 2, 1)\n",
        "    plt.plot(history.history['accuracy'], label='Train Accuracy')\n",
        "    plt.plot(history.history['val_accuracy'], label='Validation Accuracy')\n",
        "    plt.title('Train vs Validation Accuracy')\n",
        "    plt.xlabel('Epochs')\n",
        "    plt.ylabel('Accuracy')\n",
        "    plt.legend()\n",
        "    plt.grid(True)\n",
        "\n",
        "    # Loss plot\n",
        "    plt.subplot(1, 2, 2)\n",
        "    plt.plot(history.history['loss'], label='Train Loss')\n",
        "    plt.plot(history.history['val_loss'], label='Validation Loss')\n",
        "    plt.title('Train vs Validation Loss')\n",
        "    plt.xlabel('Epochs')\n",
        "    plt.ylabel('Loss')\n",
        "    plt.legend()\n",
        "    plt.grid(True)\n",
        "\n",
        "    # Show plots\n",
        "    plt.tight_layout()\n",
        "    plt.show()\n",
        "\n",
        "# After model training\n",
        "plot_train_val_loss_acc(history)\n"
      ]
    },
    {
      "cell_type": "code",
      "execution_count": null,
      "metadata": {
        "colab": {
          "base_uri": "https://localhost:8080/",
          "height": 869
        },
        "execution": {
          "iopub.execute_input": "2024-09-08T17:32:51.620253Z",
          "iopub.status.busy": "2024-09-08T17:32:51.619852Z",
          "iopub.status.idle": "2024-09-08T17:33:02.609226Z",
          "shell.execute_reply": "2024-09-08T17:33:02.608312Z",
          "shell.execute_reply.started": "2024-09-08T17:32:51.620215Z"
        },
        "id": "iya6r0Mb_wgc",
        "outputId": "92508759-f0c4-49eb-fbe6-87a726f1bfb3",
        "trusted": true
      },
      "outputs": [
        {
          "name": "stdout",
          "output_type": "stream",
          "text": [
            "\u001b[1m62/62\u001b[0m \u001b[32m━━━━━━━━━━━━━━━━━━━━\u001b[0m\u001b[37m\u001b[0m \u001b[1m13s\u001b[0m 200ms/step\n"
          ]
        },
        {
          "data": {
            "text/plain": [
              "<Figure size 1200x800 with 0 Axes>"
            ]
          },
          "metadata": {},
          "output_type": "display_data"
        },
        {
          "data": {
            "image/png": "[encoded data removed]",
            "text/plain": [
              "<Figure size 1200x800 with 2 Axes>"
            ]
          },
          "metadata": {},
          "output_type": "display_data"
        }
      ],
      "source": [
        "from sklearn.metrics import confusion_matrix, ConfusionMatrixDisplay, f1_score\n",
        "\n",
        "# Function to plot confusion matrix and F1 score\n",
        "def plot_confusion_matrix(model, val_generator):\n",
        "\n",
        "    # Get predictions from the model\n",
        "    plt.figure(figsize=(12, 8))\n",
        "    y_pred = model.predict(val_generator)\n",
        "\n",
        "    # Convert predictions from probabilities to class labels (assuming softmax output)\n",
        "    y_pred_classes = np.argmax(y_pred, axis=1)\n",
        "    # Get true class labels\n",
        "    y_true = val_generator.classes  # Assuming the generator has the true labels\n",
        "\n",
        "\n",
        "    cm = confusion_matrix(y_true, y_pred_classes)\n",
        "    f1 = f1_score(y_true, y_pred_classes, average='weighted')  # Use 'weighted' for multi-class problems\n",
        "    # Plot the confusion matrix\n",
        "    disp = ConfusionMatrixDisplay(confusion_matrix=cm, display_labels=val_generator.class_indices.keys())\n",
        "\n",
        "    fig, ax = plt.subplots(figsize=(12, 8))\n",
        "    disp.plot(cmap=plt.cm.Blues, ax=ax)\n",
        "\n",
        "\n",
        "    plt.xticks(rotation=45, ha='right')\n",
        "    plt.title(f'Confusion Matrix (F1 Score: {f1:.2f})')\n",
        "    plt.show()\n",
        "\n",
        "# After model evaluation, call this function\n",
        "plot_confusion_matrix(model, val_generator)\n"
      ]
    },
    {
      "cell_type": "code",
      "execution_count": null,
      "metadata": {},
      "outputs": [],
      "source": []
    },
    {
      "cell_type": "markdown",
      "metadata": {},
      "source": [
        "## Load and test the model"
      ]
    },
    {
      "cell_type": "code",
      "execution_count": null,
      "metadata": {
        "colab": {
          "base_uri": "https://localhost:8080/"
        },
        "id": "8jrRqAoFpF-G",
        "outputId": "dcc982ea-9ffb-4990-ed6b-9f39a5741069"
      },
      "outputs": [
        {
          "name": "stdout",
          "output_type": "stream",
          "text": [
            "\u001b[1m1/1\u001b[0m \u001b[32m━━━━━━━━━━━━━━━━━━━━\u001b[0m\u001b[37m\u001b[0m \u001b[1m5s\u001b[0m 5s/step\n",
            "Predicted class: Class 4\n"
          ]
        }
      ],
      "source": [
        "from tensorflow.keras.models import load_model\n",
        "from tensorflow.keras.preprocessing.image import ImageDataGenerator, load_img, img_to_array\n",
        "\n",
        "\n",
        "# Load the saved model\n",
        "model = load_model('/content/drive/MyDrive/fyllo/disaster_model.keras')\n",
        "\n",
        "# Preprocessing function\n",
        "datagen = ImageDataGenerator(rescale=1./255)\n",
        "\n",
        "def preprocess_image(img_path, target_size=(256, 256)):\n",
        "    img = load_img(img_path, target_size=target_size)\n",
        "    img_array = img_to_array(img)\n",
        "    img_array = np.expand_dims(img_array, axis=0)\n",
        "    img_array = datagen.flow(img_array, batch_size=1)[0]  # Apply preprocessing\n",
        "    return img_array\n",
        "\n",
        "\n",
        "\n",
        "\n",
        "# Load and preprocess a new image\n",
        "img_path = '/content/water.jpg'\n",
        "processed_image = preprocess_image(img_path)\n",
        "\n",
        "# Make a prediction\n",
        "pred = model.predict(processed_image)\n",
        "predicted_class = np.argmax(pred, axis=1)\n",
        "\n",
        "# Class label mapping\n",
        "class_labels = {0: 'Land_Disaster', 1: 'Fire_Disaster', 2: 'Non_Damage', 3: 'Damaged_Infrastructure', 4: 'Water_Disaster', 5: 'Human_Damage'}\n",
        "predicted_label = class_labels[predicted_class[0]]\n",
        "\n",
        "\n",
        "print(f\"Predicted class: {predicted_label}\")"
      ]
    },
    {
      "cell_type": "code",
      "execution_count": null,
      "metadata": {},
      "outputs": [],
      "source": []
    }
  ],
  "metadata": {
    "accelerator": "GPU",
    "colab": {
      "gpuType": "T4",
      "provenance": []
    },
    "kaggle": {
      "accelerator": "nvidiaTeslaT4",
      "dataSources": [
        {
          "datasetId": 1472998,
          "sourceId": 2434228,
          "sourceType": "datasetVersion"
        }
      ],
      "dockerImageVersionId": 30587,
      "isGpuEnabled": true,
      "isInternetEnabled": true,
      "language": "python",
      "sourceType": "notebook"
    },
    "kernelspec": {
      "display_name": "Python 3",
      "name": "python3"
    },
    "language_info": {
      "codemirror_mode": {
        "name": "ipython",
        "version": 3
      },
      "file_extension": ".py",
      "mimetype": "text/x-python",
      "name": "python",
      "nbconvert_exporter": "python",
      "pygments_lexer": "ipython3",
      "version": "3.12.2"
    }
  },
  "nbformat": 4,
  "nbformat_minor": 0
}
